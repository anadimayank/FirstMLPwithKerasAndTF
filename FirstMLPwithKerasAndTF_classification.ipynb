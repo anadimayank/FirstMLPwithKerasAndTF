{
  "nbformat": 4,
  "nbformat_minor": 0,
  "metadata": {
    "colab": {
      "name": "FirstMLPwithKerasAndTF_classification.ipynb",
      "provenance": [],
      "collapsed_sections": []
    },
    "kernelspec": {
      "name": "python3",
      "display_name": "Python 3"
    },
    "accelerator": "GPU"
  },
  "cells": [
    {
      "cell_type": "code",
      "metadata": {
        "id": "GiYmYk83T1vO",
        "colab_type": "code",
        "outputId": "34cebc9e-8aae-4b3f-b33c-b9b1286b554e",
        "colab": {
          "base_uri": "https://localhost:8080/",
          "height": 34
        }
      },
      "source": [
        "try:\n",
        "  %tensorflow_version 2.x\n",
        "except Exception:\n",
        "  pass\n",
        "import tensorflow as tf\n",
        "import numpy as np\n",
        "import matplotlib.pyplot as plt\n",
        "from tensorflow.keras.models import Sequential\n",
        "from tensorflow.keras.layers import Dense\n",
        "from sklearn.datasets import load_breast_cancer\n",
        "from sklearn.model_selection import train_test_split\n",
        "from tensorflow.keras import optimizers\n"
      ],
      "execution_count": 1,
      "outputs": [
        {
          "output_type": "stream",
          "text": [
            "TensorFlow 2.x selected.\n"
          ],
          "name": "stdout"
        }
      ]
    },
    {
      "cell_type": "code",
      "metadata": {
        "id": "xr4ImJdlW-Fu",
        "colab_type": "code",
        "colab": {}
      },
      "source": [
        "data,target=load_breast_cancer(True)\n",
        "X_train, X_test, y_train, y_test = train_test_split(data, target, test_size=0.33, random_state=42)"
      ],
      "execution_count": 0,
      "outputs": []
    },
    {
      "cell_type": "code",
      "metadata": {
        "id": "LWDUtjE7Yr24",
        "colab_type": "code",
        "colab": {}
      },
      "source": [
        "model=Sequential()\n",
        "model.add(Dense(32, activation='relu',input_shape=(30,)))\n",
        "model.add(Dense(64, activation='relu'))\n",
        "model.add(Dense(64, activation='relu'))\n",
        "model.add(Dense(1, activation='sigmoid'))\n",
        "sgd = optimizers.SGD(lr = 0.001) \n",
        "model.compile(optimizer=sgd,loss='binary_crossentropy',metrics=['accuracy'])"
      ],
      "execution_count": 0,
      "outputs": []
    },
    {
      "cell_type": "code",
      "metadata": {
        "id": "qce6j7HtbkF0",
        "colab_type": "code",
        "outputId": "2f0ad7d3-bb8c-4deb-deac-d37c7d9175b7",
        "colab": {
          "base_uri": "https://localhost:8080/",
          "height": 1000
        }
      },
      "source": [
        "history = model.fit(X_train,\n",
        "          y_train,\n",
        "          batch_size=32,\n",
        "          epochs=100,\n",
        "          verbose=1,\n",
        "          validation_split=0.2,\n",
        "          shuffle=True)"
      ],
      "execution_count": 4,
      "outputs": [
        {
          "output_type": "stream",
          "text": [
            "Train on 304 samples, validate on 77 samples\n",
            "Epoch 1/100\n",
            "304/304 [==============================] - 1s 4ms/sample - loss: 27.1464 - accuracy: 0.5197 - val_loss: 8.6141 - val_accuracy: 0.3506\n",
            "Epoch 2/100\n",
            "304/304 [==============================] - 0s 207us/sample - loss: 3.8482 - accuracy: 0.5033 - val_loss: 1.4286 - val_accuracy: 0.3506\n",
            "Epoch 3/100\n",
            "304/304 [==============================] - 0s 189us/sample - loss: 1.3480 - accuracy: 0.6118 - val_loss: 0.6043 - val_accuracy: 0.7662\n",
            "Epoch 4/100\n",
            "304/304 [==============================] - 0s 208us/sample - loss: 0.5825 - accuracy: 0.7632 - val_loss: 0.4718 - val_accuracy: 0.8052\n",
            "Epoch 5/100\n",
            "304/304 [==============================] - 0s 206us/sample - loss: 0.3504 - accuracy: 0.8651 - val_loss: 0.8775 - val_accuracy: 0.4805\n",
            "Epoch 6/100\n",
            "304/304 [==============================] - 0s 212us/sample - loss: 0.5304 - accuracy: 0.7928 - val_loss: 0.5140 - val_accuracy: 0.8052\n",
            "Epoch 7/100\n",
            "304/304 [==============================] - 0s 229us/sample - loss: 0.3021 - accuracy: 0.9079 - val_loss: 0.3723 - val_accuracy: 0.8442\n",
            "Epoch 8/100\n",
            "304/304 [==============================] - 0s 199us/sample - loss: 0.4794 - accuracy: 0.7434 - val_loss: 0.9490 - val_accuracy: 0.4805\n",
            "Epoch 9/100\n",
            "304/304 [==============================] - 0s 197us/sample - loss: 0.4393 - accuracy: 0.7961 - val_loss: 0.7916 - val_accuracy: 0.7532\n",
            "Epoch 10/100\n",
            "304/304 [==============================] - 0s 222us/sample - loss: 0.7784 - accuracy: 0.6612 - val_loss: 0.3993 - val_accuracy: 0.8701\n",
            "Epoch 11/100\n",
            "304/304 [==============================] - 0s 207us/sample - loss: 0.3292 - accuracy: 0.8750 - val_loss: 0.3226 - val_accuracy: 0.8961\n",
            "Epoch 12/100\n",
            "304/304 [==============================] - 0s 201us/sample - loss: 0.3095 - accuracy: 0.9046 - val_loss: 0.4434 - val_accuracy: 0.8182\n",
            "Epoch 13/100\n",
            "304/304 [==============================] - 0s 198us/sample - loss: 0.3253 - accuracy: 0.8914 - val_loss: 0.5644 - val_accuracy: 0.7792\n",
            "Epoch 14/100\n",
            "304/304 [==============================] - 0s 205us/sample - loss: 0.3140 - accuracy: 0.8684 - val_loss: 0.4339 - val_accuracy: 0.8052\n",
            "Epoch 15/100\n",
            "304/304 [==============================] - 0s 196us/sample - loss: 0.4949 - accuracy: 0.7928 - val_loss: 0.3950 - val_accuracy: 0.8052\n",
            "Epoch 16/100\n",
            "304/304 [==============================] - 0s 229us/sample - loss: 0.2667 - accuracy: 0.9046 - val_loss: 0.3359 - val_accuracy: 0.8571\n",
            "Epoch 17/100\n",
            "304/304 [==============================] - 0s 193us/sample - loss: 0.2864 - accuracy: 0.8947 - val_loss: 0.7184 - val_accuracy: 0.7792\n",
            "Epoch 18/100\n",
            "304/304 [==============================] - 0s 257us/sample - loss: 0.4352 - accuracy: 0.8421 - val_loss: 0.3140 - val_accuracy: 0.9221\n",
            "Epoch 19/100\n",
            "304/304 [==============================] - 0s 198us/sample - loss: 0.2843 - accuracy: 0.9112 - val_loss: 0.3119 - val_accuracy: 0.8961\n",
            "Epoch 20/100\n",
            "304/304 [==============================] - 0s 198us/sample - loss: 0.2958 - accuracy: 0.8947 - val_loss: 0.7390 - val_accuracy: 0.6623\n",
            "Epoch 21/100\n",
            "304/304 [==============================] - 0s 199us/sample - loss: 0.5572 - accuracy: 0.7664 - val_loss: 0.4501 - val_accuracy: 0.8442\n",
            "Epoch 22/100\n",
            "304/304 [==============================] - 0s 186us/sample - loss: 0.2692 - accuracy: 0.9013 - val_loss: 0.2937 - val_accuracy: 0.8961\n",
            "Epoch 23/100\n",
            "304/304 [==============================] - 0s 185us/sample - loss: 0.3244 - accuracy: 0.8651 - val_loss: 0.3937 - val_accuracy: 0.8701\n",
            "Epoch 24/100\n",
            "304/304 [==============================] - 0s 195us/sample - loss: 0.2519 - accuracy: 0.9211 - val_loss: 0.4919 - val_accuracy: 0.8052\n",
            "Epoch 25/100\n",
            "304/304 [==============================] - 0s 195us/sample - loss: 0.2495 - accuracy: 0.8914 - val_loss: 1.3012 - val_accuracy: 0.4805\n",
            "Epoch 26/100\n",
            "304/304 [==============================] - 0s 195us/sample - loss: 0.4200 - accuracy: 0.8388 - val_loss: 0.3000 - val_accuracy: 0.8961\n",
            "Epoch 27/100\n",
            "304/304 [==============================] - 0s 187us/sample - loss: 0.2852 - accuracy: 0.8980 - val_loss: 0.2953 - val_accuracy: 0.8961\n",
            "Epoch 28/100\n",
            "304/304 [==============================] - 0s 198us/sample - loss: 0.2727 - accuracy: 0.8914 - val_loss: 0.3166 - val_accuracy: 0.8831\n",
            "Epoch 29/100\n",
            "304/304 [==============================] - 0s 192us/sample - loss: 0.3671 - accuracy: 0.8520 - val_loss: 0.4349 - val_accuracy: 0.8182\n",
            "Epoch 30/100\n",
            "304/304 [==============================] - 0s 191us/sample - loss: 0.3590 - accuracy: 0.8717 - val_loss: 0.3191 - val_accuracy: 0.8831\n",
            "Epoch 31/100\n",
            "304/304 [==============================] - 0s 194us/sample - loss: 0.2343 - accuracy: 0.9243 - val_loss: 0.2783 - val_accuracy: 0.8961\n",
            "Epoch 32/100\n",
            "304/304 [==============================] - 0s 217us/sample - loss: 0.3074 - accuracy: 0.8651 - val_loss: 0.3263 - val_accuracy: 0.8961\n",
            "Epoch 33/100\n",
            "304/304 [==============================] - 0s 209us/sample - loss: 0.2788 - accuracy: 0.8750 - val_loss: 0.3524 - val_accuracy: 0.8831\n",
            "Epoch 34/100\n",
            "304/304 [==============================] - 0s 206us/sample - loss: 0.2981 - accuracy: 0.8849 - val_loss: 0.3258 - val_accuracy: 0.8701\n",
            "Epoch 35/100\n",
            "304/304 [==============================] - 0s 202us/sample - loss: 0.2362 - accuracy: 0.9178 - val_loss: 0.6509 - val_accuracy: 0.6623\n",
            "Epoch 36/100\n",
            "304/304 [==============================] - 0s 214us/sample - loss: 0.3075 - accuracy: 0.8816 - val_loss: 0.4206 - val_accuracy: 0.7792\n",
            "Epoch 37/100\n",
            "304/304 [==============================] - 0s 203us/sample - loss: 0.3321 - accuracy: 0.8816 - val_loss: 0.6824 - val_accuracy: 0.6623\n",
            "Epoch 38/100\n",
            "304/304 [==============================] - 0s 197us/sample - loss: 0.3191 - accuracy: 0.8750 - val_loss: 0.3192 - val_accuracy: 0.8831\n",
            "Epoch 39/100\n",
            "304/304 [==============================] - 0s 185us/sample - loss: 0.3030 - accuracy: 0.8882 - val_loss: 0.3306 - val_accuracy: 0.8701\n",
            "Epoch 40/100\n",
            "304/304 [==============================] - 0s 220us/sample - loss: 0.3240 - accuracy: 0.8618 - val_loss: 0.4488 - val_accuracy: 0.8442\n",
            "Epoch 41/100\n",
            "304/304 [==============================] - 0s 227us/sample - loss: 0.2946 - accuracy: 0.8586 - val_loss: 0.2958 - val_accuracy: 0.8831\n",
            "Epoch 42/100\n",
            "304/304 [==============================] - 0s 205us/sample - loss: 0.2356 - accuracy: 0.9211 - val_loss: 0.3902 - val_accuracy: 0.8312\n",
            "Epoch 43/100\n",
            "304/304 [==============================] - 0s 197us/sample - loss: 0.2932 - accuracy: 0.8980 - val_loss: 0.2855 - val_accuracy: 0.8831\n",
            "Epoch 44/100\n",
            "304/304 [==============================] - 0s 183us/sample - loss: 0.2367 - accuracy: 0.9046 - val_loss: 0.2699 - val_accuracy: 0.8961\n",
            "Epoch 45/100\n",
            "304/304 [==============================] - 0s 194us/sample - loss: 0.2405 - accuracy: 0.9046 - val_loss: 0.2847 - val_accuracy: 0.8961\n",
            "Epoch 46/100\n",
            "304/304 [==============================] - 0s 179us/sample - loss: 0.2381 - accuracy: 0.9112 - val_loss: 0.2637 - val_accuracy: 0.9091\n",
            "Epoch 47/100\n",
            "304/304 [==============================] - 0s 190us/sample - loss: 0.4905 - accuracy: 0.7961 - val_loss: 0.3954 - val_accuracy: 0.8831\n",
            "Epoch 48/100\n",
            "304/304 [==============================] - 0s 206us/sample - loss: 0.3002 - accuracy: 0.8684 - val_loss: 0.3972 - val_accuracy: 0.8182\n",
            "Epoch 49/100\n",
            "304/304 [==============================] - 0s 209us/sample - loss: 0.2725 - accuracy: 0.8849 - val_loss: 0.2863 - val_accuracy: 0.8831\n",
            "Epoch 50/100\n",
            "304/304 [==============================] - 0s 199us/sample - loss: 0.3338 - accuracy: 0.8553 - val_loss: 0.3446 - val_accuracy: 0.8961\n",
            "Epoch 51/100\n",
            "304/304 [==============================] - 0s 210us/sample - loss: 0.2505 - accuracy: 0.9178 - val_loss: 0.3567 - val_accuracy: 0.8312\n",
            "Epoch 52/100\n",
            "304/304 [==============================] - 0s 247us/sample - loss: 0.2615 - accuracy: 0.8980 - val_loss: 0.2886 - val_accuracy: 0.8961\n",
            "Epoch 53/100\n",
            "304/304 [==============================] - 0s 241us/sample - loss: 0.3333 - accuracy: 0.8553 - val_loss: 0.4361 - val_accuracy: 0.8312\n",
            "Epoch 54/100\n",
            "304/304 [==============================] - 0s 194us/sample - loss: 0.2743 - accuracy: 0.8980 - val_loss: 0.2791 - val_accuracy: 0.8961\n",
            "Epoch 55/100\n",
            "304/304 [==============================] - 0s 198us/sample - loss: 0.2568 - accuracy: 0.8980 - val_loss: 0.7591 - val_accuracy: 0.7662\n",
            "Epoch 56/100\n",
            "304/304 [==============================] - 0s 195us/sample - loss: 0.2879 - accuracy: 0.8783 - val_loss: 0.2795 - val_accuracy: 0.9091\n",
            "Epoch 57/100\n",
            "304/304 [==============================] - 0s 203us/sample - loss: 0.2306 - accuracy: 0.9079 - val_loss: 0.3143 - val_accuracy: 0.8961\n",
            "Epoch 58/100\n",
            "304/304 [==============================] - 0s 195us/sample - loss: 0.2940 - accuracy: 0.8947 - val_loss: 0.2678 - val_accuracy: 0.8831\n",
            "Epoch 59/100\n",
            "304/304 [==============================] - 0s 185us/sample - loss: 0.2874 - accuracy: 0.8816 - val_loss: 0.2836 - val_accuracy: 0.8831\n",
            "Epoch 60/100\n",
            "304/304 [==============================] - 0s 207us/sample - loss: 0.2325 - accuracy: 0.9178 - val_loss: 0.2819 - val_accuracy: 0.8961\n",
            "Epoch 61/100\n",
            "304/304 [==============================] - 0s 184us/sample - loss: 0.3053 - accuracy: 0.8717 - val_loss: 0.3590 - val_accuracy: 0.8831\n",
            "Epoch 62/100\n",
            "304/304 [==============================] - 0s 193us/sample - loss: 0.2424 - accuracy: 0.8947 - val_loss: 0.5521 - val_accuracy: 0.8182\n",
            "Epoch 63/100\n",
            "304/304 [==============================] - 0s 213us/sample - loss: 0.2446 - accuracy: 0.9145 - val_loss: 0.2735 - val_accuracy: 0.8961\n",
            "Epoch 64/100\n",
            "304/304 [==============================] - 0s 229us/sample - loss: 0.2685 - accuracy: 0.8947 - val_loss: 0.2761 - val_accuracy: 0.9091\n",
            "Epoch 65/100\n",
            "304/304 [==============================] - 0s 193us/sample - loss: 0.2326 - accuracy: 0.9046 - val_loss: 0.2617 - val_accuracy: 0.8831\n",
            "Epoch 66/100\n",
            "304/304 [==============================] - 0s 184us/sample - loss: 0.2976 - accuracy: 0.8783 - val_loss: 0.4935 - val_accuracy: 0.8312\n",
            "Epoch 67/100\n",
            "304/304 [==============================] - 0s 212us/sample - loss: 0.2630 - accuracy: 0.8882 - val_loss: 0.3811 - val_accuracy: 0.8442\n",
            "Epoch 68/100\n",
            "304/304 [==============================] - 0s 187us/sample - loss: 0.2382 - accuracy: 0.9145 - val_loss: 0.3560 - val_accuracy: 0.8571\n",
            "Epoch 69/100\n",
            "304/304 [==============================] - 0s 203us/sample - loss: 0.3259 - accuracy: 0.8553 - val_loss: 0.4266 - val_accuracy: 0.8831\n",
            "Epoch 70/100\n",
            "304/304 [==============================] - 0s 190us/sample - loss: 0.2466 - accuracy: 0.8980 - val_loss: 0.3977 - val_accuracy: 0.8701\n",
            "Epoch 71/100\n",
            "304/304 [==============================] - 0s 192us/sample - loss: 0.2828 - accuracy: 0.8816 - val_loss: 0.3677 - val_accuracy: 0.8571\n",
            "Epoch 72/100\n",
            "304/304 [==============================] - 0s 188us/sample - loss: 0.2536 - accuracy: 0.9046 - val_loss: 0.4290 - val_accuracy: 0.8312\n",
            "Epoch 73/100\n",
            "304/304 [==============================] - 0s 193us/sample - loss: 0.2768 - accuracy: 0.8882 - val_loss: 0.3298 - val_accuracy: 0.8831\n",
            "Epoch 74/100\n",
            "304/304 [==============================] - 0s 182us/sample - loss: 0.2328 - accuracy: 0.9079 - val_loss: 0.2547 - val_accuracy: 0.8961\n",
            "Epoch 75/100\n",
            "304/304 [==============================] - 0s 186us/sample - loss: 0.2216 - accuracy: 0.9145 - val_loss: 0.3585 - val_accuracy: 0.8442\n",
            "Epoch 76/100\n",
            "304/304 [==============================] - 0s 191us/sample - loss: 0.2838 - accuracy: 0.8816 - val_loss: 0.3180 - val_accuracy: 0.8831\n",
            "Epoch 77/100\n",
            "304/304 [==============================] - 0s 184us/sample - loss: 0.2255 - accuracy: 0.9178 - val_loss: 0.3078 - val_accuracy: 0.8831\n",
            "Epoch 78/100\n",
            "304/304 [==============================] - 0s 203us/sample - loss: 0.2855 - accuracy: 0.8849 - val_loss: 0.3474 - val_accuracy: 0.8701\n",
            "Epoch 79/100\n",
            "304/304 [==============================] - 0s 205us/sample - loss: 0.2599 - accuracy: 0.9178 - val_loss: 0.4524 - val_accuracy: 0.8182\n",
            "Epoch 80/100\n",
            "304/304 [==============================] - 0s 227us/sample - loss: 0.2209 - accuracy: 0.9046 - val_loss: 0.3369 - val_accuracy: 0.8312\n",
            "Epoch 81/100\n",
            "304/304 [==============================] - 0s 254us/sample - loss: 0.2295 - accuracy: 0.9112 - val_loss: 0.3475 - val_accuracy: 0.8571\n",
            "Epoch 82/100\n",
            "304/304 [==============================] - 0s 203us/sample - loss: 0.2566 - accuracy: 0.8980 - val_loss: 0.3875 - val_accuracy: 0.8442\n",
            "Epoch 83/100\n",
            "304/304 [==============================] - 0s 196us/sample - loss: 0.2285 - accuracy: 0.9145 - val_loss: 0.3818 - val_accuracy: 0.8182\n",
            "Epoch 84/100\n",
            "304/304 [==============================] - 0s 184us/sample - loss: 0.3133 - accuracy: 0.8684 - val_loss: 0.2559 - val_accuracy: 0.9091\n",
            "Epoch 85/100\n",
            "304/304 [==============================] - 0s 189us/sample - loss: 0.2806 - accuracy: 0.8947 - val_loss: 0.6128 - val_accuracy: 0.8182\n",
            "Epoch 86/100\n",
            "304/304 [==============================] - 0s 183us/sample - loss: 0.2851 - accuracy: 0.8947 - val_loss: 0.3231 - val_accuracy: 0.8831\n",
            "Epoch 87/100\n",
            "304/304 [==============================] - 0s 190us/sample - loss: 0.2295 - accuracy: 0.9243 - val_loss: 0.2676 - val_accuracy: 0.8961\n",
            "Epoch 88/100\n",
            "304/304 [==============================] - 0s 188us/sample - loss: 0.2070 - accuracy: 0.9309 - val_loss: 0.2899 - val_accuracy: 0.8961\n",
            "Epoch 89/100\n",
            "304/304 [==============================] - 0s 196us/sample - loss: 0.2529 - accuracy: 0.9079 - val_loss: 0.3703 - val_accuracy: 0.8571\n",
            "Epoch 90/100\n",
            "304/304 [==============================] - 0s 212us/sample - loss: 0.2467 - accuracy: 0.8914 - val_loss: 0.3324 - val_accuracy: 0.8961\n",
            "Epoch 91/100\n",
            "304/304 [==============================] - 0s 188us/sample - loss: 0.2146 - accuracy: 0.9178 - val_loss: 0.3254 - val_accuracy: 0.8961\n",
            "Epoch 92/100\n",
            "304/304 [==============================] - 0s 191us/sample - loss: 0.2281 - accuracy: 0.9243 - val_loss: 0.2922 - val_accuracy: 0.8961\n",
            "Epoch 93/100\n",
            "304/304 [==============================] - 0s 184us/sample - loss: 0.2301 - accuracy: 0.9178 - val_loss: 0.2924 - val_accuracy: 0.8961\n",
            "Epoch 94/100\n",
            "304/304 [==============================] - 0s 180us/sample - loss: 0.3025 - accuracy: 0.8882 - val_loss: 0.2785 - val_accuracy: 0.9091\n",
            "Epoch 95/100\n",
            "304/304 [==============================] - 0s 193us/sample - loss: 0.2111 - accuracy: 0.9276 - val_loss: 0.2627 - val_accuracy: 0.9091\n",
            "Epoch 96/100\n",
            "304/304 [==============================] - 0s 187us/sample - loss: 0.2857 - accuracy: 0.8882 - val_loss: 0.3534 - val_accuracy: 0.8831\n",
            "Epoch 97/100\n",
            "304/304 [==============================] - 0s 241us/sample - loss: 0.2082 - accuracy: 0.9112 - val_loss: 0.2365 - val_accuracy: 0.9091\n",
            "Epoch 98/100\n",
            "304/304 [==============================] - 0s 206us/sample - loss: 0.2271 - accuracy: 0.9178 - val_loss: 0.3949 - val_accuracy: 0.8571\n",
            "Epoch 99/100\n",
            "304/304 [==============================] - 0s 184us/sample - loss: 0.2090 - accuracy: 0.9145 - val_loss: 0.4856 - val_accuracy: 0.8052\n",
            "Epoch 100/100\n",
            "304/304 [==============================] - 0s 226us/sample - loss: 0.3158 - accuracy: 0.8717 - val_loss: 0.2958 - val_accuracy: 0.8831\n"
          ],
          "name": "stdout"
        }
      ]
    },
    {
      "cell_type": "code",
      "metadata": {
        "id": "o-f0hS27fkTN",
        "colab_type": "code",
        "outputId": "3f927319-d7e5-4d49-ae7b-46a591818d4b",
        "colab": {
          "base_uri": "https://localhost:8080/",
          "height": 573
        }
      },
      "source": [
        "# Plot training & validation accuracy values\n",
        "plt.plot(history.history['accuracy'])\n",
        "plt.plot(history.history['val_accuracy'])\n",
        "plt.title('Model accuracy')\n",
        "plt.ylabel('Accuracy')\n",
        "plt.xlabel('Epoch')\n",
        "plt.legend(['Train', 'Val'], loc='upper left')\n",
        "plt.show()\n",
        "\n",
        "# Plot training & validation loss values\n",
        "plt.plot(history.history['loss'])\n",
        "plt.plot(history.history['val_loss'])\n",
        "plt.title('Model loss')\n",
        "plt.ylabel('Loss')\n",
        "plt.xlabel('Epoch')\n",
        "plt.legend(['Train', 'Val'], loc='upper left')\n",
        "plt.show()\n"
      ],
      "execution_count": 7,
      "outputs": [
        {
          "output_type": "display_data",
          "data": {
            "image/png": "[encoded data removed]",
            "text/plain": [
              "<Figure size 432x288 with 1 Axes>"
            ]
          },
          "metadata": {
            "tags": []
          }
        },
        {
          "output_type": "display_data",
          "data": {
            "image/png": "[encoded data removed]",
            "text/plain": [
              "<Figure size 432x288 with 1 Axes>"
            ]
          },
          "metadata": {
            "tags": []
          }
        }
      ]
    }
  ]
}